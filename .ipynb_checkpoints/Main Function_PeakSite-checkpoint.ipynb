{
 "cells": [
  {
   "cell_type": "markdown",
   "metadata": {},
   "source": [
    "# ***Main Function: Peak Sites***"
   ]
  },
  {
   "cell_type": "markdown",
   "metadata": {},
   "source": [
    "> ## ***Import Package***"
   ]
  },
  {
   "cell_type": "code",
   "execution_count": 2,
   "metadata": {
    "ExecuteTime": {
     "end_time": "2022-03-12T15:57:28.140214Z",
     "start_time": "2022-03-12T15:57:19.701215Z"
    }
   },
   "outputs": [],
   "source": [
    "#import the libraries\n",
    "import numpy as np\n",
    "import pandas as pd\n",
    "import seaborn as sns\n",
    "import scipy\n",
    "import time\n",
    "import sklearn\n",
    "import cv2 as cv\n",
    "import matplotlib.pyplot as plt\n",
    "\n",
    "from scipy import stats, integrate\n",
    "from scipy.signal import find_peaks\n",
    "from collections import Counter\n",
    "\n",
    "#%matplotlib inline"
   ]
  },
  {
   "cell_type": "markdown",
   "metadata": {},
   "source": [
    "> ## ***Sites***"
   ]
  },
  {
   "cell_type": "code",
   "execution_count": 3,
   "metadata": {
    "ExecuteTime": {
     "end_time": "2022-03-12T15:57:39.067244Z",
     "start_time": "2022-03-12T15:57:39.054233Z"
    },
    "scrolled": true
   },
   "outputs": [
    {
     "name": "stdout",
     "output_type": "stream",
     "text": [
      "['BONA1', 'BONA2', 'BONA3', 'BONA4', 'CPER1', 'CPER2', 'CPER3', 'CPER4', 'DSNY1', 'DSNY2', 'DSNY3', 'DSNY4', 'GRSM1', 'GRSM2', 'HARV2', 'HARV3', 'KONZ1', 'KONZ2', 'KONZ3', 'KONZ4', 'NIWO1', 'NIWO2', 'NIWO3', 'NIWO4', 'ONAQ1', 'ONAQ2', 'ONAQ3', 'ONAQ4', 'OSBS3', 'OSBS4', 'PUUM1', 'PUUM4', 'SJER1', 'SJER2', 'SJER3', 'SJER4', 'SRER1', 'SRER2', 'SRER3', 'SRER4', 'TALL1', 'TALL2', 'TALL3', 'TALL4', 'TOOL1', 'TOOL2', 'TOOL3', 'TOOL4', 'UNDE1', 'UNDE2', 'UNDE4', 'WOOD1', 'WOOD2', 'WOOD3', 'WOOD4', 'WREF1', 'WREF3', 'YELL1', 'YELL2', 'YELL3', 'YELL4'] 61\n",
      "['GRSM3', 'GRSM4', 'LENO1', 'OSBS1', 'OSBS2', 'WREF2', 'WREF4', 'HARV1', 'HARV4', 'LENO2', 'LENO3', 'LENO4', 'SCBI1', 'UNDE3'] 14\n"
     ]
    }
   ],
   "source": [
    "###Peak Sites###\n",
    "Lignin_LowPeak  = ['GRSM3','GRSM4','LENO1','OSBS1','OSBS2','WREF2','WREF4']\n",
    "Lignin_HighPeak = ['HARV1','HARV4','LENO2','LENO3','LENO4','SCBI1','UNDE3']\n",
    "Litter_peak     = ['PUUM2','PUUM3','SCBI2','SCBI3','SCBI4'] \n",
    "\n",
    "# LITTER #\n",
    "# PUUM 1,2,3,4    # Litter peak\n",
    "# SCBI 2,3,4      # litter peaks\n",
    "# LIGNIN #\n",
    "#'LENO2'          # lignin peak, but can capture\n",
    "# OSBS3,4         # no lignin peak\n",
    "# SJER2           # no-lignin peak\n",
    "\n",
    "# get all site name #\n",
    "sitename = ['BONA','CPER','DSNY','GRSM','HARV','KONZ','LENO','NIWO','ONAQ','OSBS','PUUM','SCBI','SJER','SRER','TALL','TOOL','UNDE','WOOD','WREF','YELL']\n",
    "sitenum  = 4\n",
    "sample_site_index = []\n",
    "for i in range(len(sitename)):\n",
    "    for j in range(sitenum):\n",
    "        sample_site_index.append(\"{Site}{Num}\".format(Site=sitename[i],Num=j+1))\n",
    "        \n",
    "### Valid Sites: Exclude peak sites ###\n",
    "validSite = Counter(sample_site_index)-Counter(Lignin_LowPeak)-Counter(Lignin_HighPeak)-Counter(Litter_peak)\n",
    "validSite = list(validSite.elements())\n",
    "print((validSite),len(validSite))\n",
    "\n",
    "### Peak Sites: ###\n",
    "peakSite = Lignin_LowPeak + Lignin_HighPeak\n",
    "print(peakSite,len(peakSite))\n",
    "\n",
    "### Random choose sites ###\n",
    "#sample_sitetest_index = random.sample(sample_site_index,int(len(sample_site_index)*0.7))"
   ]
  },
  {
   "cell_type": "code",
   "execution_count": 5,
   "metadata": {
    "ExecuteTime": {
     "end_time": "2022-03-12T16:15:30.595253Z",
     "start_time": "2022-03-12T16:15:30.592250Z"
    }
   },
   "outputs": [],
   "source": [
    "para_name = ['CN_AOM1','CN_AOM2','CN_AOM3','CN_SMB1','CN_SMB2','CN_SMR','CN_NOM','CN_MOM','kmax_AOM1','kmax_AOM2',  \n",
    "             'kmax_AOM3','kmax_SMR','kmax_NOM','kmax_MOM','fAOM1_SMB1','fAOM2_SMB1','fAOM_MOM','fAOM3_SMB1','fNOM_SMB1','fNOM_MOM',  \n",
    "             'fE_AOM1','fE_AOM2','fE_AOM3','fE_NOM','fA_SMB1','fM_SMB1','fA_SMB2','fM_SMB2','lig_p1','lig_p2','u','theta','ymax']"
   ]
  },
  {
   "cell_type": "code",
   "execution_count": 6,
   "metadata": {
    "ExecuteTime": {
     "end_time": "2022-03-12T16:15:31.701163Z",
     "start_time": "2022-03-12T16:15:31.698161Z"
    }
   },
   "outputs": [],
   "source": [
    "lab_day = [4,11,25,39,53,67,81,95,109,123,137,151,179,207,235,263,291,319,347,375,403,431,459,487,515,543,571]"
   ]
  },
  {
   "cell_type": "markdown",
   "metadata": {},
   "source": [
    "> ### ***MCMC Post parameters***"
   ]
  },
  {
   "cell_type": "code",
   "execution_count": 7,
   "metadata": {
    "ExecuteTime": {
     "end_time": "2022-03-12T16:15:35.522309Z",
     "start_time": "2022-03-12T16:15:33.050274Z"
    }
   },
   "outputs": [],
   "source": [
    "import os\n",
    "import fnmatch \n",
    "import scipy.io\n",
    "for site in peakSite:\n",
    "    in_path = r'C:\\Users\\boyi\\Desktop\\8.MCMC_Uniform_ForLabIcubation_LoopSite_Peak\\20200210_dream_zs_restart_with_SOM\\MAMC_Result'\n",
    "    mat  = scipy.io.loadmat(in_path+'\\{site_name}.mat'.format(site_name=site))\n",
    "    mat.keys()\n",
    "    post = pd.DataFrame(mat['Z0'])\n",
    "    out_path = r'C:\\Users\\boyi\\Desktop\\8.MCMC_Uniform_ForLabIcubation_LoopSite_Peak\\20200210_dream_zs_restart_with_SOM\\postPara_lss_peak'\n",
    "    post.to_csv(out_path + '\\{site_name}_lss_para_posterior.csv'.format(site_name=site),header=para_name,index=False)"
   ]
  },
  {
   "cell_type": "markdown",
   "metadata": {},
   "source": [
    "***Main Function***"
   ]
  },
  {
   "cell_type": "code",
   "execution_count": null,
   "metadata": {
    "ExecuteTime": {
     "start_time": "2022-03-12T17:00:36.133Z"
    },
    "code_folding": [],
    "slideshow": {
     "slide_type": "notes"
    }
   },
   "outputs": [
    {
     "name": "stdout",
     "output_type": "stream",
     "text": [
      "GRSM3\n",
      "GRSM4\n",
      "LENO1\n",
      "OSBS1\n"
     ]
    }
   ],
   "source": [
    "##Sample site & Lab incubation days## \n",
    "\n",
    "day  = 571+1\n",
    "para_sample = 400\n",
    "\n",
    "#Package import#\n",
    "import numpy as np\n",
    "import pandas as pd\n",
    "import time\n",
    "from Decomposition_Peak import CWD_pool\n",
    "from Decomposition_Peak import SOM_pool\n",
    "from Decomposition_Peak import av_Nitro\n",
    "from Decomposition_Peak import CWDFrag_OrgInAllocLab\n",
    "from Decomposition_Peak import SoilDecom_pot\n",
    "from Decomposition_Peak import SoilDecom_real\n",
    "from Decomposition_Peak import initial_content\n",
    "from Decomposition_Peak import lls_CO2\n",
    "#Looping for Each Site#\n",
    "\n",
    "for sample_site in peakSite:\n",
    "    print(sample_site)\n",
    "    Rh_total  = np.zeros((para_sample,day-1))\n",
    "    Rh_litter = np.zeros((para_sample,day-1))\n",
    "    Rh_lignin = np.zeros((para_sample,day-1))\n",
    "    Rh_soil   = np.zeros((para_sample,day-1))\n",
    "    for i in range(0,para_sample):\n",
    "        #Input data#\n",
    "        obser_data = pd.read_csv(\"./labObser_lss/obser_data.csv\",index_col=0)\n",
    "        #Fixed Paras#\n",
    "        # decom_para = pd.read_csv(\"decom_para.csv\",index_col=0)\n",
    "        #Optimized para from MCMC#\n",
    "        decom_para_posterior = pd.read_csv(\"./postPara_lss_peak/{Site_Num}_lss_para_posterior.csv\".format(Site_Num=sample_site),index_col=False)\n",
    "        decom_para_post      = decom_para_posterior.iloc[i,:]\n",
    "        #Optimized parameters#\n",
    "        CN_AOM1      = decom_para_post[0]\n",
    "        CN_AOM2      = decom_para_post[1]\n",
    "        CN_AOM3      = decom_para_post[2]\n",
    "        CN_SMB1      = decom_para_post[3]\n",
    "        CN_SMB2      = decom_para_post[4]\n",
    "        CN_SMR       = decom_para_post[5]\n",
    "        CN_NOM       = decom_para_post[6]\n",
    "        CN_MOM       = decom_para_post[7]\n",
    "        kmax_AOM1    = decom_para_post[8]\n",
    "        kmax_AOM2    = decom_para_post[9]\n",
    "        kmax_AOM3    = decom_para_post[10]\n",
    "        kmax_SMR     = decom_para_post[11]\n",
    "        kmax_NOM     = decom_para_post[12]\n",
    "        kmax_MOM     = decom_para_post[13]\n",
    "        fAOM1_SMB1   = decom_para_post[14]\n",
    "        fAOM2_SMB1   = decom_para_post[15]\n",
    "        fAOM_MOM     = decom_para_post[16]\n",
    "        fAOM3_SMB1   = decom_para_post[17]\n",
    "        fNOM_SMB1    = decom_para_post[18]\n",
    "        fNOM_MOM     = decom_para_post[19]\n",
    "        fE_AOM1      = decom_para_post[20]\n",
    "        fE_AOM2      = decom_para_post[21]\n",
    "        fE_AOM3      = decom_para_post[22]\n",
    "        fE_NOM       = decom_para_post[23]\n",
    "        fA_SMB1      = decom_para_post[24]\n",
    "        fM_SMB1      = decom_para_post[25]\n",
    "        fA_SMB2      = decom_para_post[26]\n",
    "        fM_SMB2      = decom_para_post[27]\n",
    "        lig_p1       = decom_para_post[28]\n",
    "        lig_p2       = decom_para_post[29]\n",
    "        u            = decom_para_post[30]\n",
    "        theta        = decom_para_post[31]\n",
    "        ymax         = decom_para_post[32]\n",
    "        #Class initialization#\n",
    "        litter = CWD_pool(obser_data,sample_site,\"litter\")\n",
    "        AOM1   = SOM_pool(obser_data,sample_site,'AOM1')\n",
    "        AOM2   = SOM_pool(obser_data,sample_site,'AOM2')\n",
    "        AOM3   = SOM_pool(obser_data,sample_site,'AOM3')\n",
    "        SMB1   = SOM_pool(obser_data,sample_site,'SMB1')\n",
    "        SMB2   = SOM_pool(obser_data,sample_site,'SMB2')\n",
    "        SMR    = SOM_pool(obser_data,sample_site,'SMR')\n",
    "        NOM    = SOM_pool(obser_data,sample_site,'NOM')\n",
    "        MOM    = SOM_pool(obser_data,sample_site,'MOM')\n",
    "        avN    = av_Nitro(obser_data,sample_site)\n",
    "        initCont   = initial_content()\n",
    "        initCont.MicroSMB1Zero(SMB1.C)\n",
    "        initCont.MicroSMB2Zero(SMB2.C)\n",
    "        #initCont.LitterSub(litter.C*kbase_litter)\n",
    "        #initCont.SoilSub(NOM.C*kmax_NOM)\n",
    "        #Data Collection#\n",
    "        Rh=[]\n",
    "        flag_SMB1 = 0\n",
    "        flag_SMB2 = 0\n",
    "        \n",
    "        CWDFrag_OrgInAllocLab(sample_site,obser_data,litter,AOM1,AOM2,AOM3,CN_AOM1,CN_AOM2,CN_AOM3)\n",
    "\n",
    "        #Looping for Each Inbubation Day#\n",
    "        for t in range(1,day):\n",
    "            potimm = 0\n",
    "            Nmin = 0\n",
    "            litligsoil_CO2 = lls_CO2()\n",
    "\n",
    "            bimm_AOM1,bimm_AOM2,bimm_AOM3,bimm_SMR,bimm_NOM,bimm_MOM,potimm = SoilDecom_pot(sample_site,t,obser_data,potimm,flag_SMB1,flag_SMB2,lig_p1,lig_p2,\n",
    "                                                                                            AOM1,AOM2,AOM3,SMB1,SMB2,SMR,NOM,MOM,initCont, \n",
    "                                                                                            CN_SMB1,CN_SMB2,CN_SMR,CN_NOM,CN_MOM, \n",
    "                                                                                            kmax_AOM1,kmax_AOM2,kmax_AOM3,kmax_SMR,kmax_NOM,kmax_MOM, \n",
    "                                                                                            fAOM1_SMB1,fAOM2_SMB1,fAOM_MOM,fAOM3_SMB1,fNOM_SMB1,fNOM_MOM, \n",
    "                                                                                            fE_AOM1,fE_AOM2,fE_AOM3,fE_NOM,fA_SMB1,fA_SMB2,fM_SMB1,fM_SMB2)\n",
    "\n",
    "            Rh,flag_SMB1,flag_SMB2,fM_SMB1,fM_SMB2 = SoilDecom_real (u,theta,ymax,sample_site,t,obser_data,Nmin,potimm,flag_SMB1,flag_SMB2,Rh,lig_p1,lig_p2,  \n",
    "                                                                     AOM1,AOM2,AOM3,SMB1,SMB2,SMR,NOM,MOM,avN,initCont,litligsoil_CO2,  \n",
    "                                                                     bimm_AOM1,bimm_AOM2,bimm_AOM3,bimm_SMR,bimm_NOM,bimm_MOM,  \n",
    "                                                                     CN_SMB1,CN_SMB2,CN_SMR,CN_NOM,CN_MOM,kmax_AOM1,kmax_AOM2,kmax_AOM3,kmax_SMR,kmax_NOM,kmax_MOM,  \n",
    "                                                                     fAOM1_SMB1,fAOM2_SMB1,fAOM_MOM,fAOM3_SMB1,fNOM_SMB1,fNOM_MOM,  \n",
    "                                                                     fE_AOM1,fE_AOM2,fE_AOM3,fE_NOM,fA_SMB1,fA_SMB2,fM_SMB1,fM_SMB2)\n",
    "\n",
    "\n",
    "        ##Data Output##\n",
    "        Rh_array = np.array(Rh)\n",
    "        Rh_day = Rh_array.reshape(-1,14)\n",
    "        Rh_total[i,:]  = Rh_day[:,-4]\n",
    "        Rh_litter[i,:] = Rh_day[:,-3]\n",
    "        Rh_lignin[i,:] = Rh_day[:,-2]\n",
    "        Rh_soil[i,:]   = Rh_day[:,-1]\n",
    "    \n",
    "    np.savetxt(r'C:\\Users\\boyi\\Desktop\\8.MCMC_Uniform_ForLabIcubation_LoopSite_Peak\\20200210_dream_zs_restart_with_SOM\\modelResult_peak\\{Site_Num}_lss_total.csv'.format(Site_Num=sample_site),Rh_total,delimiter=\",\")\n",
    "    np.savetxt(r'C:\\Users\\boyi\\Desktop\\8.MCMC_Uniform_ForLabIcubation_LoopSite_Peak\\20200210_dream_zs_restart_with_SOM\\modelResult_peak\\{Site_Num}_lss_litter.csv'.format(Site_Num=sample_site),Rh_litter,delimiter=\",\")\n",
    "    np.savetxt(r'C:\\Users\\boyi\\Desktop\\8.MCMC_Uniform_ForLabIcubation_LoopSite_Peak\\20200210_dream_zs_restart_with_SOM\\modelResult_peak\\{Site_Num}_lss_lignin.csv'.format(Site_Num=sample_site),Rh_lignin,delimiter=\",\")\n",
    "    np.savetxt(r'C:\\Users\\boyi\\Desktop\\8.MCMC_Uniform_ForLabIcubation_LoopSite_Peak\\20200210_dream_zs_restart_with_SOM\\modelResult_peak\\{Site_Num}_lss_soil.csv'.format(Site_Num=sample_site),Rh_soil,delimiter=\",\")\n",
    "    "
   ]
  },
  {
   "cell_type": "code",
   "execution_count": null,
   "metadata": {},
   "outputs": [],
   "source": [
    "1"
   ]
  },
  {
   "cell_type": "markdown",
   "metadata": {
    "ExecuteTime": {
     "end_time": "2020-12-11T00:24:34.677464Z",
     "start_time": "2020-12-11T00:24:34.665487Z"
    },
    "hide_input": true
   },
   "source": [
    "1"
   ]
  }
 ],
 "metadata": {
  "kernelspec": {
   "display_name": "Python 3 (ipykernel)",
   "language": "python",
   "name": "python3"
  },
  "language_info": {
   "codemirror_mode": {
    "name": "ipython",
    "version": 3
   },
   "file_extension": ".py",
   "mimetype": "text/x-python",
   "name": "python",
   "nbconvert_exporter": "python",
   "pygments_lexer": "ipython3",
   "version": "3.9.7"
  },
  "toc": {
   "base_numbering": 1,
   "nav_menu": {},
   "number_sections": false,
   "sideBar": true,
   "skip_h1_title": false,
   "title_cell": "Table of Contents",
   "title_sidebar": "Contents",
   "toc_cell": false,
   "toc_position": {},
   "toc_section_display": true,
   "toc_window_display": true
  }
 },
 "nbformat": 4,
 "nbformat_minor": 4
}
